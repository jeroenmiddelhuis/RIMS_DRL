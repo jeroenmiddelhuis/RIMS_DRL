{
 "cells": [
  {
   "cell_type": "code",
   "execution_count": 2,
   "metadata": {},
   "outputs": [],
   "source": [
    "import scipy.stats as st\n",
    "import numpy as np\n",
    "import json\n",
    "from scipy import stats\n",
    "\n",
    "def confidence_interval(data):\n",
    "    n = len(data)\n",
    "    C = 0.95\n",
    "    alpha = 1 - C\n",
    "    tails = 2\n",
    "    q = 1 - (alpha / tails)\n",
    "    dof = n - 1\n",
    "    t_star = st.t.ppf(q, dof)\n",
    "    x_bar = np.mean(data)\n",
    "    print(x_bar)\n",
    "    s = np.std(data, ddof=1)\n",
    "    ci_upper = x_bar + t_star * s / np.sqrt(n)\n",
    "    ci_lower = x_bar - t_star * s / np.sqrt(n)\n",
    "    #print(f'{x_bar};{ci_lower};{ci_upper}')\n",
    "    ci = int(np.round(x_bar-ci_lower))\n",
    "    x_bar = int(np.round(x_bar))\n",
    "    print(f'{x_bar}($\\pm{ci}$)')    \n",
    "    return ci_lower, ci_upper"
   ]
  },
  {
   "cell_type": "code",
   "execution_count": 3,
   "metadata": {},
   "outputs": [
    {
     "data": {
      "text/plain": [
       "11"
      ]
     },
     "execution_count": 3,
     "metadata": {},
     "output_type": "execute_result"
    }
   ],
   "source": [
    "int(np.round(10.6, 0))"
   ]
  },
  {
   "cell_type": "code",
   "execution_count": 4,
   "metadata": {},
   "outputs": [
    {
     "name": "stdout",
     "output_type": "stream",
     "text": [
      "BPI_Challenge_2017_W_Two_TS 25\n",
      "395.4533701848333\n",
      "395($\\pm1$)\n",
      "BPI_Challenge_2012_W_Two_TS 100\n",
      "1993.2227583333333\n",
      "1993($\\pm12$)\n",
      "ConsultaDataMining201618 100\n",
      "927.837955801105\n",
      "928($\\pm14$)\n",
      "Productions 100\n",
      "126607.494\n",
      "126607($\\pm2684$)\n",
      "confidential_1000 100\n",
      "16814.181194968554\n",
      "16814($\\pm187$)\n",
      "PurchasingExample 100\n",
      "179506.23099009902\n",
      "179506($\\pm5243$)\n"
     ]
    }
   ],
   "source": [
    "['RANDOM', 'FIFO_case', 'FIFO_activity', 'SPT']\n",
    "policy = 'RANDOM'\n",
    "calendar = False\n",
    "threshold = 20\n",
    "\n",
    "for log in ['BPI_Challenge_2017_W_Two_TS', 'BPI_Challenge_2012_W_Two_TS', 'ConsultaDataMining201618', 'Productions', 'confidential_1000', 'PurchasingExample']:\n",
    "    f = open(f'output/result_{log}_C{calendar}_T{threshold}_{policy}.json')\n",
    "    data = json.load(f)\n",
    "    flattened_list = [value for sublist in data.values() for value in sublist]\n",
    "    print(log, len(data))\n",
    "    confidence_interval(flattened_list)\n",
    "\n",
    "    # if log == 'BPI_Challenge_2017_W_Two_TS':\n",
    "    #     print(len(data))\n",
    "\n"
   ]
  },
  {
   "cell_type": "code",
   "execution_count": 5,
   "metadata": {},
   "outputs": [
    {
     "name": "stdout",
     "output_type": "stream",
     "text": [
      "BPI_Challenge_2017_W_Two_TS 25\n",
      "17931.445430989806\n",
      "17931($\\pm431$)\n",
      "BPI_Challenge_2012_W_Two_TS 100\n",
      "27101.414525\n",
      "27101($\\pm526$)\n",
      "ConsultaDataMining201618 100\n",
      "99616.03298342541\n",
      "99616($\\pm3103$)\n",
      "Productions 100\n",
      "279647.25622222223\n",
      "279647($\\pm9962$)\n",
      "confidential_1000 100\n",
      "20481.06849056604\n",
      "20481($\\pm318$)\n",
      "PurchasingExample 100\n",
      "57206.70742574258\n",
      "57207($\\pm1469$)\n",
      "{'BPI_Challenge_2017_W_Two_TS': 25, 'BPI_Challenge_2012_W_Two_TS': 100, 'ConsultaDataMining201618': 100, 'Productions': 100, 'confidential_1000': 100, 'PurchasingExample': 100}\n"
     ]
    }
   ],
   "source": [
    "policy = 'None'\n",
    "calendar = True\n",
    "postpone = False\n",
    "threshold = 0\n",
    "reward = 'inverse_CT'\n",
    "\n",
    "lengths = {}\n",
    "for log in ['BPI_Challenge_2017_W_Two_TS', 'BPI_Challenge_2012_W_Two_TS', 'ConsultaDataMining201618', 'Productions', 'confidential_1000', 'PurchasingExample']:\n",
    "    # if log == 'BPI_Challenge_2017_W_Two_TS':\n",
    "    #     print()\n",
    "    # else:\n",
    "        f = open(f'output/result_{log}_from_input_data_C{calendar}_T{threshold}_P{postpone}_{reward}_{policy}.json')\n",
    "        data = json.load(f)\n",
    "        #print([np.mean(value) for value in data.values()])\n",
    "        flattened_list = [value for sublist in data.values() for value in sublist]\n",
    "        print(log, len(data))\n",
    "        confidence_interval(flattened_list)\n",
    "\n",
    "        lengths[log] = len(data)\n",
    "print(lengths)\n"
   ]
  },
  {
   "cell_type": "code",
   "execution_count": 6,
   "metadata": {},
   "outputs": [
    {
     "name": "stdout",
     "output_type": "stream",
     "text": [
      "791457.7323899372 802879.1442767296 102239387.42622642\n"
     ]
    },
    {
     "data": {
      "text/plain": [
       "TtestResult(statistic=-2.2109695061737655, pvalue=0.027045037619719468, df=31798.0)"
      ]
     },
     "execution_count": 6,
     "metadata": {},
     "output_type": "execute_result"
    }
   ],
   "source": [
    "['BPI_Challenge_2017_W_Two_TS', 'BPI_Challenge_2012_W_Two_TS', 'ConsultaDataMining201618', 'Productions', 'confidential_1000', 'PurchasingExample']\n",
    "log = 'confidential_1000'\n",
    "\n",
    "['RANDOM', 'FIFO_case', 'FIFO_activity', 'SPT']\n",
    "policy = 'FIFO_case'\n",
    "calendar = True\n",
    "threshold = 20\n",
    "\n",
    "\n",
    "heuristic = open(f'output/result_{log}_C{calendar}_T{threshold}_{policy}.json')\n",
    "heuristic = json.load(heuristic)\n",
    "heuristic = [value for sublist in heuristic.values() for value in sublist]\n",
    "\n",
    "policy2 = 'FIFO_activity'\n",
    "heuristic2 = open(f'output/result_{log}_C{calendar}_T{threshold}_{policy2}.json')\n",
    "heuristic2 = json.load(heuristic2)\n",
    "heuristic2 = [value for sublist in heuristic2.values() for value in sublist]\n",
    "\n",
    "drl = open(f'output/result_{log}_from_input_data_C{calendar}_T{threshold}_PFalse_inverse_CT_None.json')\n",
    "drl = json.load(drl)\n",
    "drl = [value for sublist in drl.values() for value in sublist]\n",
    "print(np.mean(heuristic), np.mean(drl), np.mean(heuristic2))\n",
    "\n",
    "stats.ttest_ind(heuristic, drl)"
   ]
  }
 ],
 "metadata": {
  "kernelspec": {
   "display_name": "rims",
   "language": "python",
   "name": "python3"
  },
  "language_info": {
   "codemirror_mode": {
    "name": "ipython",
    "version": 3
   },
   "file_extension": ".py",
   "mimetype": "text/x-python",
   "name": "python",
   "nbconvert_exporter": "python",
   "pygments_lexer": "ipython3",
   "version": "3.10.8"
  }
 },
 "nbformat": 4,
 "nbformat_minor": 2
}
